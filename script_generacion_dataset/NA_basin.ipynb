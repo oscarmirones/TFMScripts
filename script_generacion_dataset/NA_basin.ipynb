{
 "cells": [
  {
   "cell_type": "markdown",
   "metadata": {},
   "source": [
    "# North Atlantic and Caribbean Basins"
   ]
  },
  {
   "cell_type": "code",
   "execution_count": 1,
   "metadata": {},
   "outputs": [],
   "source": [
    "import xarray as xr\n",
    "from matplotlib.pylab import *\n",
    "import numpy as np\n",
    "import pandas as pd\n",
    "from geopy import distance\n",
    "from mpl_toolkits.axes_grid1 import make_axes_locatable\n",
    "from geographiclib.geodesic import Geodesic\n",
    "import time\n"
   ]
  },
  {
   "cell_type": "code",
   "execution_count": 2,
   "metadata": {},
   "outputs": [],
   "source": [
    "def get_bearing(lat1, lat2, long1, long2):\n",
    "    brng = Geodesic.WGS84.Inverse(lat1, long1, lat2, long2)['azi1']\n",
    "    return brng"
   ]
  },
  {
   "cell_type": "code",
   "execution_count": 3,
   "metadata": {},
   "outputs": [],
   "source": [
    "xds_tracks = xr.open_dataset('Allstorms.ibtracs_wmo.v03r09.nc')"
   ]
  },
  {
   "cell_type": "code",
   "execution_count": 4,
   "metadata": {},
   "outputs": [
    {
     "data": {
      "text/plain": [
       "'0 = NA - North Atlantic\\n1 = SA - South Atlantic\\n2 = WP - West Pacific\\n3 = EP - East Pacific\\n4 = SP - South Pacific\\n5 = NI - North Indian\\n6 = SI - South Indian\\n7 = AS - Arabian Sea\\n8 = BB - Bay of Bengal\\n9 = EA - Eastern Australia\\n10 = WA - Western Australia\\n11 = CP - Central Pacific\\n12 = CS - Carribbean Sea\\n13 = GM - Gulf of Mexico\\n14 = MM - Missing'"
      ]
     },
     "execution_count": 4,
     "metadata": {},
     "output_type": "execute_result"
    }
   ],
   "source": [
    "xds_tracks.basin.key"
   ]
  },
  {
   "cell_type": "code",
   "execution_count": 25,
   "metadata": {},
   "outputs": [],
   "source": [
    "xds_tracks = xds_tracks.sel(storm = np.unique(np.where((xds_tracks.basin == 0) | (xds_tracks.basin == 12))[0]))"
   ]
  },
  {
   "cell_type": "code",
   "execution_count": 26,
   "metadata": {},
   "outputs": [
    {
     "data": {
      "text/html": [
       "<pre>&lt;xarray.Dataset&gt;\n",
       "Dimensions:          (center: 26, storm: 1816, time: 137)\n",
       "Dimensions without coordinates: center, storm, time\n",
       "Data variables:\n",
       "    storm_sn         (storm) |S13 ...\n",
       "    name             (storm) |S57 ...\n",
       "    numObs           (storm) int16 ...\n",
       "    season           (storm) int16 ...\n",
       "    track_type       (storm) int8 ...\n",
       "    genesis_basin    (storm) int8 ...\n",
       "    num_basins       (storm) int8 ...\n",
       "    basin            (storm, time) float32 0.0 0.0 0.0 0.0 ... nan nan nan nan\n",
       "    wind_avg_period  (center) float32 ...\n",
       "    source           (center) |S10 ...\n",
       "    time_wmo         (storm, time) datetime64[ns] ...\n",
       "    lat_wmo          (storm, time) float32 ...\n",
       "    lon_wmo          (storm, time) float32 ...\n",
       "    alt              (storm, time) float32 ...\n",
       "    wind_wmo         (storm, time) float32 ...\n",
       "    pres_wmo         (storm, time) float32 ...\n",
       "    sub_basin        (storm, time) float32 ...\n",
       "    nature_wmo       (storm, time) float32 ...\n",
       "    source_wmo       (storm, time) float32 ...\n",
       "    dist2land        (storm, time) float32 ...\n",
       "    landfall         (storm, time) float32 ...\n",
       "Attributes:\n",
       "    Title:                IBTrACS-WMO: NetCDF reformat\n",
       "    Version:              v03r09\n",
       "    Description:          IBTrACS-WMO data reformatted to contain \\nall data ...\n",
       "    cdm_datatype:         Trajectory\n",
       "    trajectoryDimension:  storm\n",
       "    Conventions:          CF-1.0\n",
       "    metadata_link:        gov.noaa.ncdc:C00834</pre>"
      ],
      "text/plain": [
       "<xarray.Dataset>\n",
       "Dimensions:          (center: 26, storm: 1816, time: 137)\n",
       "Dimensions without coordinates: center, storm, time\n",
       "Data variables:\n",
       "    storm_sn         (storm) |S13 ...\n",
       "    name             (storm) |S57 ...\n",
       "    numObs           (storm) int16 ...\n",
       "    season           (storm) int16 ...\n",
       "    track_type       (storm) int8 ...\n",
       "    genesis_basin    (storm) int8 ...\n",
       "    num_basins       (storm) int8 ...\n",
       "    basin            (storm, time) float32 0.0 0.0 0.0 0.0 ... nan nan nan nan\n",
       "    wind_avg_period  (center) float32 ...\n",
       "    source           (center) |S10 ...\n",
       "    time_wmo         (storm, time) datetime64[ns] ...\n",
       "    lat_wmo          (storm, time) float32 ...\n",
       "    lon_wmo          (storm, time) float32 ...\n",
       "    alt              (storm, time) float32 ...\n",
       "    wind_wmo         (storm, time) float32 ...\n",
       "    pres_wmo         (storm, time) float32 ...\n",
       "    sub_basin        (storm, time) float32 ...\n",
       "    nature_wmo       (storm, time) float32 ...\n",
       "    source_wmo       (storm, time) float32 ...\n",
       "    dist2land        (storm, time) float32 ...\n",
       "    landfall         (storm, time) float32 ...\n",
       "Attributes:\n",
       "    Title:                IBTrACS-WMO: NetCDF reformat\n",
       "    Version:              v03r09\n",
       "    Description:          IBTrACS-WMO data reformatted to contain \\nall data ...\n",
       "    cdm_datatype:         Trajectory\n",
       "    trajectoryDimension:  storm\n",
       "    Conventions:          CF-1.0\n",
       "    metadata_link:        gov.noaa.ncdc:C00834"
      ]
     },
     "execution_count": 26,
     "metadata": {},
     "output_type": "execute_result"
    }
   ],
   "source": [
    "xds_tracks"
   ]
  },
  {
   "cell_type": "code",
   "execution_count": 27,
   "metadata": {},
   "outputs": [
    {
     "data": {
      "text/plain": [
       "numpy.datetime64('1997-12-31')"
      ]
     },
     "execution_count": 27,
     "metadata": {},
     "output_type": "execute_result"
    }
   ],
   "source": [
    "import datetime\n",
    "\n",
    "d = datetime.date(1997, 12, 31)\n",
    "np.datetime64(d)"
   ]
  },
  {
   "cell_type": "code",
   "execution_count": 28,
   "metadata": {},
   "outputs": [],
   "source": [
    "lats = []\n",
    "lons = []\n",
    "pres = []\n",
    "time = []\n",
    "st_idx = []\n",
    "for i in xds_tracks.storm.values:\n",
    "    idx = np.argwhere(xds_tracks.sel(storm = i).time_wmo[~np.isnan(xds_tracks.sel(storm = i).time_wmo)].values > np.datetime64(d))\n",
    "   #idx me selecciona los datos para fechas a partir de 1998\n",
    "    if len(idx) == 0: #esta condicion significa que es un array vacio, con lo cual no hay fechas a partir de 1998\n",
    "        continue\n",
    "    else:\n",
    "        \n",
    "        lats.append(xds_tracks.sel(storm = i).lat_wmo.values)\n",
    "        lons.append(xds_tracks.sel(storm = i).lon_wmo.values)\n",
    "        pres.append(xds_tracks.sel(storm = i).pres_wmo.values)\n",
    "        time.append(xds_tracks.sel(storm = i).time_wmo.values)\n",
    "        st_idx.append(i)"
   ]
  },
  {
   "cell_type": "code",
   "execution_count": 29,
   "metadata": {},
   "outputs": [],
   "source": [
    "NA_basin = xr.Dataset({'latitud': (('storm','time'), np.array(lats)),\n",
    "           'longitud':(('storm','time'), np.array(lons)),\n",
    "           'presion': (('storm','time'), np.array(pres)),\n",
    "           'fechas': (('storm','time'), np.array(time))},\n",
    "          {'storm': np.array(st_idx),\n",
    "          'time': xds_tracks.time.values})"
   ]
  },
  {
   "cell_type": "code",
   "execution_count": 30,
   "metadata": {},
   "outputs": [
    {
     "data": {
      "text/html": [
       "<pre>&lt;xarray.Dataset&gt;\n",
       "Dimensions:   (storm: 300, time: 137)\n",
       "Coordinates:\n",
       "  * storm     (storm) int64 1516 1517 1518 1519 1520 ... 1812 1813 1814 1815\n",
       "  * time      (time) int64 0 1 2 3 4 5 6 7 8 ... 129 130 131 132 133 134 135 136\n",
       "Data variables:\n",
       "    latitud   (storm, time) float32 11.3 11.7 12.2 12.599999 ... nan nan nan nan\n",
       "    longitud  (storm, time) float32 -25.4 -27.199999 -29.199999 ... nan nan nan\n",
       "    presion   (storm, time) float32 1009.0 1009.0 1009.0 1008.0 ... nan nan nan\n",
       "    fechas    (storm, time) datetime64[ns] 1998-07-27T12:00:00.000043520 ... NaT</pre>"
      ],
      "text/plain": [
       "<xarray.Dataset>\n",
       "Dimensions:   (storm: 300, time: 137)\n",
       "Coordinates:\n",
       "  * storm     (storm) int64 1516 1517 1518 1519 1520 ... 1812 1813 1814 1815\n",
       "  * time      (time) int64 0 1 2 3 4 5 6 7 8 ... 129 130 131 132 133 134 135 136\n",
       "Data variables:\n",
       "    latitud   (storm, time) float32 11.3 11.7 12.2 12.599999 ... nan nan nan nan\n",
       "    longitud  (storm, time) float32 -25.4 -27.199999 -29.199999 ... nan nan nan\n",
       "    presion   (storm, time) float32 1009.0 1009.0 1009.0 1008.0 ... nan nan nan\n",
       "    fechas    (storm, time) datetime64[ns] 1998-07-27T12:00:00.000043520 ... NaT"
      ]
     },
     "execution_count": 30,
     "metadata": {},
     "output_type": "execute_result"
    }
   ],
   "source": [
    "NA_basin"
   ]
  },
  {
   "cell_type": "code",
   "execution_count": 31,
   "metadata": {},
   "outputs": [],
   "source": [
    "NA_basin.to_netcdf('basinNA.nc4')"
   ]
  },
  {
   "cell_type": "code",
   "execution_count": null,
   "metadata": {},
   "outputs": [],
   "source": []
  }
 ],
 "metadata": {
  "kernelspec": {
   "display_name": "Python 3",
   "language": "python",
   "name": "python3"
  },
  "language_info": {
   "codemirror_mode": {
    "name": "ipython",
    "version": 3
   },
   "file_extension": ".py",
   "mimetype": "text/x-python",
   "name": "python",
   "nbconvert_exporter": "python",
   "pygments_lexer": "ipython3",
   "version": "3.7.7"
  }
 },
 "nbformat": 4,
 "nbformat_minor": 4
}
