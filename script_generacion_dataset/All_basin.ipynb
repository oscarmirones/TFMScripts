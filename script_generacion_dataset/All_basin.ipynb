{
 "cells": [
  {
   "cell_type": "markdown",
   "metadata": {},
   "source": [
    "# All Basins"
   ]
  },
  {
   "cell_type": "code",
   "execution_count": 1,
   "metadata": {},
   "outputs": [],
   "source": [
    "import xarray as xr\n",
    "from matplotlib.pylab import *\n",
    "import numpy as np\n",
    "import pandas as pd\n",
    "from geopy import distance\n",
    "from mpl_toolkits.axes_grid1 import make_axes_locatable\n",
    "from geographiclib.geodesic import Geodesic\n",
    "import time\n",
    "\n",
    "def get_bearing(lat1, lat2, long1, long2):\n",
    "    brng = Geodesic.WGS84.Inverse(lat1, long1, lat2, long2)['azi1']\n",
    "    return brng"
   ]
  },
  {
   "cell_type": "code",
   "execution_count": 2,
   "metadata": {},
   "outputs": [],
   "source": [
    "xds_tracks = xr.open_dataset('Allstorms.ibtracs_wmo.v03r09.nc')"
   ]
  },
  {
   "cell_type": "code",
   "execution_count": 9,
   "metadata": {},
   "outputs": [
    {
     "data": {
      "text/plain": [
       "numpy.datetime64('1997-12-31')"
      ]
     },
     "execution_count": 9,
     "metadata": {},
     "output_type": "execute_result"
    }
   ],
   "source": [
    "import datetime\n",
    "\n",
    "d = datetime.date(1997, 12, 31)\n",
    "np.datetime64(d)"
   ]
  },
  {
   "cell_type": "code",
   "execution_count": 13,
   "metadata": {},
   "outputs": [],
   "source": [
    "lats = []\n",
    "lons = []\n",
    "pres = []\n",
    "time = []\n",
    "basin = []\n",
    "dist2land = []\n",
    "st_idx = []\n",
    "for i in xds_tracks.storm.values:\n",
    "    idx = np.argwhere(xds_tracks.sel(storm = i).time_wmo[~np.isnan(xds_tracks.sel(storm = i).time_wmo)].values > np.datetime64(d))\n",
    "   #idx me selecciona los datos para fechas a partir de 1998\n",
    "    if len(idx) == 0: #esta condicion significa que es un array vacio, con lo cual no hay fechas a partir de 1998\n",
    "        continue\n",
    "    else:\n",
    "        \n",
    "        lats.append(xds_tracks.sel(storm = i).lat_wmo.values)\n",
    "        lons.append(xds_tracks.sel(storm = i).lon_wmo.values)\n",
    "        pres.append(xds_tracks.sel(storm = i).pres_wmo.values)\n",
    "        time.append(xds_tracks.sel(storm = i).time_wmo.values)\n",
    "        basin.append(xds_tracks.sel(storm = i).basin.values)\n",
    "        dist2land.append(xds_tracks.sel(storm = i).dist2land.values)\n",
    "        st_idx.append(i)"
   ]
  },
  {
   "cell_type": "code",
   "execution_count": 15,
   "metadata": {},
   "outputs": [],
   "source": [
    "All_basin = xr.Dataset({'latitud': (('storm','time'), np.array(lats)),\n",
    "           'longitud':(('storm','time'), np.array(lons)),\n",
    "           'presion': (('storm','time'), np.array(pres)),\n",
    "           'cuenca': (('storm','time'), np.array(basin)),\n",
    "           'distancia_tierra': (('storm','time'), np.array(dist2land)),\n",
    "           'fechas': (('storm','time'), np.array(time))},\n",
    "          {'storm': np.array(st_idx),\n",
    "          'time': xds_tracks.time.values})"
   ]
  },
  {
   "cell_type": "code",
   "execution_count": 16,
   "metadata": {},
   "outputs": [
    {
     "data": {
      "text/html": [
       "<pre>&lt;xarray.Dataset&gt;\n",
       "Dimensions:           (storm: 1636, time: 137)\n",
       "Coordinates:\n",
       "  * storm             (storm) int64 5630 5632 5633 5634 ... 7263 7264 7265 7266\n",
       "  * time              (time) int64 0 1 2 3 4 5 6 ... 130 131 132 133 134 135 136\n",
       "Data variables:\n",
       "    latitud           (storm, time) float32 -12.3 -12.4 -12.5 ... nan nan nan\n",
       "    longitud          (storm, time) float32 173.5 172.9 172.5 ... nan nan nan\n",
       "    presion           (storm, time) float32 997.0 987.0 985.0 ... nan nan nan\n",
       "    cuenca            (storm, time) float32 4.0 4.0 4.0 4.0 ... nan nan nan nan\n",
       "    distancia_tierra  (storm, time) float32 723.0 691.0 647.0 ... nan nan nan\n",
       "    fechas            (storm, time) datetime64[ns] 1998-01-03T00:00:00.000043520 ... NaT</pre>"
      ],
      "text/plain": [
       "<xarray.Dataset>\n",
       "Dimensions:           (storm: 1636, time: 137)\n",
       "Coordinates:\n",
       "  * storm             (storm) int64 5630 5632 5633 5634 ... 7263 7264 7265 7266\n",
       "  * time              (time) int64 0 1 2 3 4 5 6 ... 130 131 132 133 134 135 136\n",
       "Data variables:\n",
       "    latitud           (storm, time) float32 -12.3 -12.4 -12.5 ... nan nan nan\n",
       "    longitud          (storm, time) float32 173.5 172.9 172.5 ... nan nan nan\n",
       "    presion           (storm, time) float32 997.0 987.0 985.0 ... nan nan nan\n",
       "    cuenca            (storm, time) float32 4.0 4.0 4.0 4.0 ... nan nan nan nan\n",
       "    distancia_tierra  (storm, time) float32 723.0 691.0 647.0 ... nan nan nan\n",
       "    fechas            (storm, time) datetime64[ns] 1998-01-03T00:00:00.000043520 ... NaT"
      ]
     },
     "execution_count": 16,
     "metadata": {},
     "output_type": "execute_result"
    }
   ],
   "source": [
    "All_basin"
   ]
  },
  {
   "cell_type": "code",
   "execution_count": 17,
   "metadata": {},
   "outputs": [],
   "source": [
    "All_basin.to_netcdf('All_basin.nc4')"
   ]
  }
 ],
 "metadata": {
  "kernelspec": {
   "display_name": "Python 3",
   "language": "python",
   "name": "python3"
  },
  "language_info": {
   "codemirror_mode": {
    "name": "ipython",
    "version": 3
   },
   "file_extension": ".py",
   "mimetype": "text/x-python",
   "name": "python",
   "nbconvert_exporter": "python",
   "pygments_lexer": "ipython3",
   "version": "3.7.7"
  }
 },
 "nbformat": 4,
 "nbformat_minor": 4
}
